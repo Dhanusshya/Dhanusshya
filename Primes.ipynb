{
  "nbformat": 4,
  "nbformat_minor": 0,
  "metadata": {
    "colab": {
      "provenance": [],
      "authorship_tag": "ABX9TyO2LmYeSsKBmxnxB1qNwSoS",
      "include_colab_link": true
    },
    "kernelspec": {
      "name": "python3",
      "display_name": "Python 3"
    },
    "language_info": {
      "name": "python"
    }
  },
  "cells": [
    {
      "cell_type": "markdown",
      "metadata": {
        "id": "view-in-github",
        "colab_type": "text"
      },
      "source": [
        "<a href=\"https://colab.research.google.com/github/Dhanusshya/Dhanusshya/blob/main/Primes.ipynb\" target=\"_parent\"><img src=\"https://colab.research.google.com/assets/colab-badge.svg\" alt=\"Open In Colab\"/></a>"
      ]
    },
    {
      "cell_type": "markdown",
      "source": [
        "# Wilson Primality Test"
      ],
      "metadata": {
        "id": "tW7sfCTcKN9x"
      }
    },
    {
      "cell_type": "code",
      "source": [
        "def fact(n):\n",
        "  if ((n==0) or (n==1)):\n",
        "     return 1\n",
        "  else:\n",
        "     return (n*fact(n-1))\n",
        "\n",
        "def wilson(x):\n",
        "  if ((fact(x-1)+1) % x == 0):\n",
        "     print(x,\"is a Prime\")\n",
        "     return \n",
        "  else:\n",
        "     print(x,\"is not a prime\")\n",
        "     return"
      ],
      "metadata": {
        "id": "VQXvEH3R_opN"
      },
      "execution_count": null,
      "outputs": []
    },
    {
      "cell_type": "markdown",
      "source": [
        "This program is designed based on Wilson's theorem and primarily test \"If n is a prime, then (n-1)!+1 is divisible by n itself\"."
      ],
      "metadata": {
        "id": "t56xdE9QI5Ik"
      }
    },
    {
      "cell_type": "code",
      "source": [
        "wilson(45)"
      ],
      "metadata": {
        "colab": {
          "base_uri": "https://localhost:8080/"
        },
        "id": "VkjQUdBLITc3",
        "outputId": "b67cecb4-e957-46ae-a71d-1619ee759177"
      },
      "execution_count": null,
      "outputs": [
        {
          "output_type": "stream",
          "name": "stdout",
          "text": [
            "45 is not a prime\n"
          ]
        }
      ]
    },
    {
      "cell_type": "code",
      "source": [
        "wilson(37)"
      ],
      "metadata": {
        "colab": {
          "base_uri": "https://localhost:8080/"
        },
        "id": "NYcCHr2MJeyW",
        "outputId": "0f84bae3-0f01-49cf-f9e0-7221d955e15e"
      },
      "execution_count": null,
      "outputs": [
        {
          "output_type": "stream",
          "name": "stdout",
          "text": [
            "37 is a Prime\n"
          ]
        }
      ]
    },
    {
      "cell_type": "code",
      "source": [
        "wilson(52)"
      ],
      "metadata": {
        "colab": {
          "base_uri": "https://localhost:8080/"
        },
        "id": "MXuM8US8JzUl",
        "outputId": "2ad4e118-cbcd-4bf1-b90b-d8adc59a0393"
      },
      "execution_count": null,
      "outputs": [
        {
          "output_type": "stream",
          "name": "stdout",
          "text": [
            "52 is not a prime\n"
          ]
        }
      ]
    },
    {
      "cell_type": "markdown",
      "source": [
        "# Fermat's Primality Test"
      ],
      "metadata": {
        "id": "qvDfIihSKEnR"
      }
    },
    {
      "cell_type": "code",
      "source": [
        "def fermat(a,n):\n",
        "    if ((a**n - a)%n ==0):\n",
        "        print(n,\"is a prime\")\n",
        "    else:\n",
        "        print(n,\"is not a prime\")"
      ],
      "metadata": {
        "id": "-cfjBA2zea9T"
      },
      "execution_count": 1,
      "outputs": []
    },
    {
      "cell_type": "code",
      "source": [
        "fermat(2,861)"
      ],
      "metadata": {
        "colab": {
          "base_uri": "https://localhost:8080/"
        },
        "id": "5agvAILcez2q",
        "outputId": "31cd0250-a8bd-4eff-ec05-c02c315df926"
      },
      "execution_count": 2,
      "outputs": [
        {
          "output_type": "stream",
          "name": "stdout",
          "text": [
            "861 is not a prime\n"
          ]
        }
      ]
    },
    {
      "cell_type": "markdown",
      "source": [
        "# AKS Primality Test"
      ],
      "metadata": {
        "id": "WzUWpgJOe90w"
      }
    },
    {
      "cell_type": "code",
      "source": [
        "def aks(a,n):\n",
        "    x=int(input(\"Enter a number:\"))\n",
        "    z=(x+a)**n\n",
        "    l=x**n + a\n",
        "    if((z-l)%n==0):\n",
        "        print(n,\"is a prime\")\n",
        "    else:\n",
        "        print(n,\"is not a prime\")"
      ],
      "metadata": {
        "id": "TpA1mykbfI-k"
      },
      "execution_count": 3,
      "outputs": []
    },
    {
      "cell_type": "code",
      "source": [
        "aks(2,5)"
      ],
      "metadata": {
        "colab": {
          "base_uri": "https://localhost:8080/"
        },
        "id": "Kjgc5ESRfXCh",
        "outputId": "2d9b9954-9619-4f50-bc68-fdaf405940c3"
      },
      "execution_count": 4,
      "outputs": [
        {
          "output_type": "stream",
          "name": "stdout",
          "text": [
            "Enter a number:6\n",
            "5 is a prime\n"
          ]
        }
      ]
    }
  ]
}