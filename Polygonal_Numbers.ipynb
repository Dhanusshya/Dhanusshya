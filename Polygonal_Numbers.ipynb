{
  "nbformat": 4,
  "nbformat_minor": 0,
  "metadata": {
    "colab": {
      "provenance": [],
      "authorship_tag": "ABX9TyP8Z0CD6oKa3kWrRY1kbfF8",
      "include_colab_link": true
    },
    "kernelspec": {
      "name": "python3",
      "display_name": "Python 3"
    },
    "language_info": {
      "name": "python"
    }
  },
  "cells": [
    {
      "cell_type": "markdown",
      "metadata": {
        "id": "view-in-github",
        "colab_type": "text"
      },
      "source": [
        "<a href=\"https://colab.research.google.com/github/Dhanusshya/Dhanusshya/blob/main/Polygonal_Numbers.ipynb\" target=\"_parent\"><img src=\"https://colab.research.google.com/assets/colab-badge.svg\" alt=\"Open In Colab\"/></a>"
      ]
    },
    {
      "cell_type": "markdown",
      "source": [
        "# Triangular Numbers"
      ],
      "metadata": {
        "id": "NAlMSI29hIS-"
      }
    },
    {
      "cell_type": "code",
      "execution_count": 1,
      "metadata": {
        "id": "A_ketG9vgwoz"
      },
      "outputs": [],
      "source": [
        "def triangular(n):\n",
        "    i=1\n",
        "    while(i<=n):\n",
        "        s=int((i**2 +i)/2)\n",
        "        print(s)\n",
        "        i=i+1\n",
        "    return"
      ]
    },
    {
      "cell_type": "markdown",
      "source": [
        "The triangular numbers are polygonal numbers of triangular dimension. This is program generates first n triangular numbers."
      ],
      "metadata": {
        "id": "_mAx4g8DhW5D"
      }
    },
    {
      "cell_type": "code",
      "source": [
        "triangular(5)"
      ],
      "metadata": {
        "colab": {
          "base_uri": "https://localhost:8080/"
        },
        "id": "SOdSQiu5hCtk",
        "outputId": "947e1999-17d3-4c67-b411-76c9bfadbd25"
      },
      "execution_count": 2,
      "outputs": [
        {
          "output_type": "stream",
          "name": "stdout",
          "text": [
            "1\n",
            "3\n",
            "6\n",
            "10\n",
            "15\n"
          ]
        }
      ]
    },
    {
      "cell_type": "markdown",
      "source": [
        "# Square Number"
      ],
      "metadata": {
        "id": "2UAC8v_4iOJa"
      }
    },
    {
      "cell_type": "code",
      "source": [
        "def square(n):\n",
        "    i=1\n",
        "    while(i<=n):\n",
        "        s=i**2\n",
        "        print(s)\n",
        "        i=i+1\n",
        "    return"
      ],
      "metadata": {
        "id": "3aIwvEmKif6g"
      },
      "execution_count": 3,
      "outputs": []
    },
    {
      "cell_type": "markdown",
      "source": [
        "Square numbers are polygonal numbers of geometric dimension square. This program generates first n square numbers."
      ],
      "metadata": {
        "id": "FzTtYIeVisVl"
      }
    },
    {
      "cell_type": "code",
      "source": [
        "square(7)"
      ],
      "metadata": {
        "colab": {
          "base_uri": "https://localhost:8080/"
        },
        "id": "85kDLP3PjSZR",
        "outputId": "9b51030d-b463-4c22-bd0f-b235ee542864"
      },
      "execution_count": 4,
      "outputs": [
        {
          "output_type": "stream",
          "name": "stdout",
          "text": [
            "1\n",
            "4\n",
            "9\n",
            "16\n",
            "25\n",
            "36\n",
            "49\n"
          ]
        }
      ]
    },
    {
      "cell_type": "markdown",
      "source": [
        "# Pentagonal Number"
      ],
      "metadata": {
        "id": "TE8ZXGUhjalN"
      }
    },
    {
      "cell_type": "code",
      "source": [
        "def pentagonal(n):\n",
        "    i=1\n",
        "    while(i<=n):\n",
        "        s=int((3*(i**2)-i)/2)\n",
        "        print(s)\n",
        "        i=i+1\n",
        "    return"
      ],
      "metadata": {
        "id": "BxVu5POJjgW0"
      },
      "execution_count": 7,
      "outputs": []
    },
    {
      "cell_type": "markdown",
      "source": [
        "Pentagonal numbers are polygonal numbers of geometric dimension pentagon. This program generates first n numbers. "
      ],
      "metadata": {
        "id": "LfNUpSGpj63Z"
      }
    },
    {
      "cell_type": "code",
      "source": [
        "pentagonal(5)"
      ],
      "metadata": {
        "colab": {
          "base_uri": "https://localhost:8080/"
        },
        "id": "1J4ndbQAknSm",
        "outputId": "58df201c-5ffc-4fff-fd98-8eb86fa0f49a"
      },
      "execution_count": 8,
      "outputs": [
        {
          "output_type": "stream",
          "name": "stdout",
          "text": [
            "1\n",
            "5\n",
            "12\n",
            "22\n",
            "35\n"
          ]
        }
      ]
    }
  ]
}